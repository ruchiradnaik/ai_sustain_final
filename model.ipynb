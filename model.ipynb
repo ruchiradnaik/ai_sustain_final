{
 "cells": [
  {
   "cell_type": "markdown",
   "id": "43364921",
   "metadata": {},
   "source": [
    "# Train transport_model.ipynb\n",
    "\n",
    "\n"
   ]
  },
  {
   "cell_type": "code",
   "execution_count": 1,
   "id": "9fd3b6b0",
   "metadata": {},
   "outputs": [
    {
     "name": "stdout",
     "output_type": "stream",
     "text": [
      "Loaded: bus: (21814, 12) metro: (211, 13) routes: (531, 9)\n"
     ]
    }
   ],
   "source": [
    "# Imports\n",
    "import pandas as pd\n",
    "import numpy as np\n",
    "from sklearn.model_selection import train_test_split, cross_val_score\n",
    "from sklearn.ensemble import RandomForestClassifier\n",
    "from sklearn.preprocessing import LabelEncoder\n",
    "import joblib\n",
    "import os\n",
    "\n",
    "# Paths\n",
    "BUS_PATH = \"PMPL dataset.xlsx\"\n",
    "METRO_PATH = \"pune_metro.xlsx\"\n",
    "ROUTES_PATH = \"Pune Routes Cleaned.csv\"\n",
    "\n",
    "os.makedirs(\"model\", exist_ok=True)\n",
    "\n",
    "# Load datasets\n",
    "bus_df = pd.read_excel(BUS_PATH, sheet_name=\"Sheet1\")\n",
    "metro_df = pd.read_excel(METRO_PATH, sheet_name=\"pune_metro_full_schedule_with_c\")\n",
    "routes_df = pd.read_csv(ROUTES_PATH)\n",
    "\n",
    "print(\"Loaded: bus:\", bus_df.shape, \"metro:\", metro_df.shape, \"routes:\", routes_df.shape)\n"
   ]
  },
  {
   "cell_type": "markdown",
   "id": "56108f31",
   "metadata": {},
   "source": [
    "## Improved Labeling\n"
   ]
  },
  {
   "cell_type": "code",
   "execution_count": 2,
   "id": "d5f09750",
   "metadata": {},
   "outputs": [
    {
     "name": "stdout",
     "output_type": "stream",
     "text": [
      "Recommended_Mode\n",
      "Bus      324\n",
      "Metro    158\n",
      "Walk      49\n",
      "Name: count, dtype: int64\n"
     ]
    }
   ],
   "source": [
    "# Make labels\n",
    "df = routes_df.copy()\n",
    "\n",
    "# Ensure columns\n",
    "for col in ['Station_Type','Station_Distance_km','Fare_INR','Travel_Time_min']:\n",
    "    if col not in df.columns:\n",
    "        df[col] = np.nan\n",
    "\n",
    "# Label function with eco-bias\n",
    "def label_row(r):\n",
    "    dist = float(r['Station_Distance_km']) if pd.notna(r['Station_Distance_km']) else 999\n",
    "    st = str(r.get('Station_Type', 'Bus'))\n",
    "    if dist <= 0.5:\n",
    "        return 'Walk'\n",
    "    if 'Metro' in st and 'Bus' in st:\n",
    "        return 'Mixed'\n",
    "    if 'Metro' in st:\n",
    "        return 'Metro'  # Prefer metro for eco\n",
    "    return 'Bus'\n",
    "\n",
    "df['Recommended_Mode'] = df.apply(label_row, axis=1)\n",
    "print(df['Recommended_Mode'].value_counts())\n"
   ]
  },
  {
   "cell_type": "code",
   "execution_count": 3,
   "id": "6605fdaf",
   "metadata": {},
   "outputs": [
    {
     "name": "stdout",
     "output_type": "stream",
     "text": [
      "CV Scores: 1.0\n",
      "Train score: 1.0\n",
      "Test score : 1.0\n",
      "Saved model and encoder\n"
     ]
    }
   ],
   "source": [
    "# Feature engineering: Add eco-feature (CO2 savings g/km, heuristic: metro=high, bus=low)\n",
    "features = ['Station_Distance_km','Distance_from_End_km','Fare_INR','Travel_Time_min']\n",
    "df['CO2_Savings_g'] = np.where(df['Station_Type']=='Metro', 50, np.where(df['Station_Type']=='Bus', 20, 0))\n",
    "features.append('CO2_Savings_g')\n",
    "\n",
    "# Fill missing\n",
    "for f in features:\n",
    "    df[f] = pd.to_numeric(df[f], errors='coerce').fillna(df[f].median())\n",
    "\n",
    "X = df[features]\n",
    "y = df['Recommended_Mode']\n",
    "\n",
    "# Encode\n",
    "le = LabelEncoder()\n",
    "y_enc = le.fit_transform(y)\n",
    "\n",
    "# Split\n",
    "X_train, X_test, y_train, y_test = train_test_split(X, y_enc, test_size=0.4, random_state=42, stratify=y_enc)\n",
    "\n",
    "# Train with regularization and class weights\n",
    "model = RandomForestClassifier(n_estimators=100, max_depth=10, class_weight='balanced', random_state=42, n_jobs=-1)\n",
    "model.fit(X_train, y_train)\n",
    "\n",
    "# Evaluate with CV\n",
    "cv_scores = cross_val_score(model, X, y_enc, cv=5)\n",
    "print(\"CV Scores:\", cv_scores.mean())\n",
    "print(\"Train score:\", model.score(X_train, y_train))\n",
    "print(\"Test score :\", model.score(X_test, y_test))\n",
    "\n",
    "# Save\n",
    "joblib.dump(model, \"model_samp/transport_model.pkl\")\n",
    "joblib.dump(le, \"model_samp/label_encoder.pkl\")\n",
    "print(\"Saved model and encoder\")\n"
   ]
  },
  {
   "cell_type": "markdown",
   "id": "11f94e92",
   "metadata": {},
   "source": [
    "## Evaluation"
   ]
  },
  {
   "cell_type": "code",
   "execution_count": 4,
   "id": "73e63dcf",
   "metadata": {},
   "outputs": [
    {
     "name": "stdout",
     "output_type": "stream",
     "text": [
      "Saved sample predictions\n"
     ]
    }
   ],
   "source": [
    "# Predict and save sample\n",
    "preds = model.predict(X_test)\n",
    "preds_labels = le.inverse_transform(preds)\n",
    "res = X_test.copy()\n",
    "res['True'] = le.inverse_transform(y_test)\n",
    "res['Pred'] = preds_labels\n",
    "res.to_csv(\"model_samp/predictions_sample.csv\", index=False)\n",
    "print('Saved sample predictions')\n"
   ]
  },
  {
   "cell_type": "code",
   "execution_count": 5,
   "id": "c6cf2ea0",
   "metadata": {},
   "outputs": [
    {
     "name": "stdout",
     "output_type": "stream",
     "text": [
      "Train accuracy: 1.0\n",
      "Test accuracy: 1.0\n"
     ]
    }
   ],
   "source": [
    "print(\"Train accuracy:\", model.score(X_train, y_train))\n",
    "print(\"Test accuracy:\", model.score(X_test, y_test))"
   ]
  }
 ],
 "metadata": {
  "kernelspec": {
   "display_name": "Python 3",
   "language": "python",
   "name": "python3"
  },
  "language_info": {
   "codemirror_mode": {
    "name": "ipython",
    "version": 3
   },
   "file_extension": ".py",
   "mimetype": "text/x-python",
   "name": "python",
   "nbconvert_exporter": "python",
   "pygments_lexer": "ipython3",
   "version": "3.12.4"
  }
 },
 "nbformat": 4,
 "nbformat_minor": 5
}
